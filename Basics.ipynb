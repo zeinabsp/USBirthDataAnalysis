{
 "cells": [
  {
   "cell_type": "code",
   "execution_count": 1,
   "metadata": {
    "collapsed": false
   },
   "outputs": [
    {
     "name": "stdout",
     "output_type": "stream",
     "text": [
      "['year,month,date_of_month,day_of_week,births', '1994,1,1,6,8096', '1994,1,2,7,7772', '1994,1,3,1,10142', '1994,1,4,2,11248', '1994,1,5,3,11053', '1994,1,6,4,11406', '1994,1,7,5,11251', '1994,1,8,6,8653', '1994,1,9,7,7910']\n"
     ]
    }
   ],
   "source": [
    "bd_text = open(\"US_births_1994-2003_CDC_NCHS.csv\", 'r').read()\n",
    "bd_lines = bd_text.split('\\n')\n",
    "print(bd_lines[0:10])"
   ]
  },
  {
   "cell_type": "code",
   "execution_count": 2,
   "metadata": {
    "collapsed": false
   },
   "outputs": [
    {
     "name": "stdout",
     "output_type": "stream",
     "text": [
      "[[1994, 1, 1, 6, 8096], [1994, 1, 2, 7, 7772], [1994, 1, 3, 1, 10142], [1994, 1, 4, 2, 11248], [1994, 1, 5, 3, 11053], [1994, 1, 6, 4, 11406], [1994, 1, 7, 5, 11251], [1994, 1, 8, 6, 8653], [1994, 1, 9, 7, 7910], [1994, 1, 10, 1, 10498]]\n"
     ]
    }
   ],
   "source": [
    "def read_csv(filename):\n",
    "    file_text = open(filename, 'r').read()\n",
    "    file_lines = file_text.split('\\n')\n",
    "    string_list = file_lines[1:len(file_lines)]\n",
    "    final_list = []\n",
    "    for string in string_list:\n",
    "        int_fields = []\n",
    "        string_fields = string.split(',')\n",
    "        for field in string_fields:\n",
    "            int_fields.append(int(field))\n",
    "        final_list.append(int_fields)\n",
    "    return final_list\n",
    "\n",
    "cdc_list = read_csv(\"US_births_1994-2003_CDC_NCHS.csv\")\n",
    "print(cdc_list[0:10])"
   ]
  },
  {
   "cell_type": "code",
   "execution_count": 3,
   "metadata": {
    "collapsed": false
   },
   "outputs": [
    {
     "name": "stdout",
     "output_type": "stream",
     "text": [
      "{1: 3232517, 2: 3018140, 3: 3322069, 4: 3185314, 5: 3350907, 6: 3296530, 7: 3498783, 8: 3525858, 9: 3439698, 10: 3378814, 11: 3171647, 12: 3301860}\n"
     ]
    }
   ],
   "source": [
    "def month_births(birth_data):\n",
    "    births_per_month = {}\n",
    "    for row in birth_data:\n",
    "        month = row[1]\n",
    "        births = row[4]\n",
    "        if month in births_per_month:\n",
    "            births_per_month[month] = births_per_month[month] + births\n",
    "        else:\n",
    "            births_per_month[month] = births\n",
    "    return births_per_month\n",
    "\n",
    "cdc_month_births = month_births(cdc_list)\n",
    "print(cdc_month_births)"
   ]
  },
  {
   "cell_type": "code",
   "execution_count": 4,
   "metadata": {
    "collapsed": false
   },
   "outputs": [
    {
     "name": "stdout",
     "output_type": "stream",
     "text": [
      "{1: 5789166, 2: 6446196, 3: 6322855, 4: 6288429, 5: 6233657, 6: 4562111, 7: 4079723}\n"
     ]
    }
   ],
   "source": [
    "def dow_births(birth_data):\n",
    "    births_per_day = {}\n",
    "    for row in birth_data:\n",
    "        dow = row[3]\n",
    "        births = row[4]\n",
    "        if dow in births_per_day:\n",
    "            births_per_day[dow] = births_per_day[dow] + births\n",
    "        else:\n",
    "            births_per_day[dow] = births\n",
    "    return births_per_day\n",
    "\n",
    "cdc_day_births = dow_births(cdc_list)\n",
    "print(cdc_day_births)"
   ]
  },
  {
   "cell_type": "code",
   "execution_count": 5,
   "metadata": {
    "collapsed": false
   },
   "outputs": [
    {
     "name": "stdout",
     "output_type": "stream",
     "text": [
      "{2000: 4058814, 2001: 4025933, 2002: 4021726, 2003: 4089950, 1994: 3952767, 1995: 3899589, 1996: 3891494, 1997: 3880894, 1998: 3941553, 1999: 3959417}\n",
      "{1: 3232517, 2: 3018140, 3: 3322069, 4: 3185314, 5: 3350907, 6: 3296530, 7: 3498783, 8: 3525858, 9: 3439698, 10: 3378814, 11: 3171647, 12: 3301860}\n",
      "{1: 1276557, 2: 1288739, 3: 1304499, 4: 1288154, 5: 1299953, 6: 1304474, 7: 1310459, 8: 1312297, 9: 1303292, 10: 1320764, 11: 1314361, 12: 1318437, 13: 1277684, 14: 1320153, 15: 1319171, 16: 1315192, 17: 1324953, 18: 1326855, 19: 1318727, 20: 1324821, 21: 1322897, 22: 1317381, 23: 1293290, 24: 1288083, 25: 1272116, 26: 1284796, 27: 1294395, 28: 1307685, 29: 1223161, 30: 1202095, 31: 746696}\n",
      "{1: 5789166, 2: 6446196, 3: 6322855, 4: 6288429, 5: 6233657, 6: 4562111, 7: 4079723}\n"
     ]
    }
   ],
   "source": [
    "def calc_counts(data, column):\n",
    "    births_per_col = {}\n",
    "    for row in data:\n",
    "        col = row[column]\n",
    "        births = row[4]\n",
    "        if col in births_per_col:\n",
    "            births_per_col[col] = births_per_col[col] + births\n",
    "        else:\n",
    "            births_per_col[col] = births\n",
    "    return births_per_col\n",
    "\n",
    "cdc_year_births = calc_counts(cdc_list, 0)\n",
    "cdc_month_births = calc_counts(cdc_list, 1)\n",
    "cdc_dom_births = calc_counts(cdc_list, 2)\n",
    "cdc_dow_births = calc_counts(cdc_list, 3)\n",
    "\n",
    "print(cdc_year_births)\n",
    "print(cdc_month_births)\n",
    "print(cdc_dom_births)\n",
    "print(cdc_dow_births)"
   ]
  },
  {
   "cell_type": "code",
   "execution_count": 8,
   "metadata": {
    "collapsed": false
   },
   "outputs": [
    {
     "name": "stdout",
     "output_type": "stream",
     "text": [
      "3880894\n",
      "4089950\n",
      "3018140\n",
      "3525858\n"
     ]
    }
   ],
   "source": [
    "def min_max_dict(data):\n",
    "    min_val = float(\"inf\")\n",
    "    max_val = 0\n",
    "    for key in data:\n",
    "        if (min_val > data[key]):\n",
    "            min_val = data[key]\n",
    "        if (max_val < data[key]):\n",
    "            max_val = data[key]\n",
    "    print(min_val)\n",
    "    print(max_val)\n",
    "    \n",
    "min_max_dict(cdc_year_births)\n",
    "min_max_dict(cdc_month_births)"
   ]
  },
  {
   "cell_type": "code",
   "execution_count": 21,
   "metadata": {
    "collapsed": false
   },
   "outputs": [
    {
     "name": "stdout",
     "output_type": "stream",
     "text": [
      "[-23016, -3231, -3527, -2609, 3128, 16202]\n",
      "[-1183, -5139, 2217, -3039, 5134, 1475, -4097]\n"
     ]
    }
   ],
   "source": [
    "def diff_consecutive_years(start_year, end_year, col, col_val):\n",
    "    diffs = []\n",
    "    cons_vals = {}\n",
    "    for row in cdc_list:\n",
    "        if (row[0] >= start_year and row[0] <= end_year and \n",
    "           row[col] == col_val):\n",
    "            if row[0] in cons_vals:\n",
    "                cons_vals[row[0]] = cons_vals[row[0]] + row[4]\n",
    "            else:\n",
    "                cons_vals[row[0]] = row[4]\n",
    "                \n",
    "    prev_val = -1;\n",
    "    curr_val = -1;\n",
    "    for key in cons_vals:\n",
    "        curr_val = cons_vals[key];\n",
    "        if (prev_val != -1):\n",
    "            diffs.append(curr_val - prev_val)\n",
    "        prev_val = curr_val\n",
    "    return diffs\n",
    "        \n",
    "print(diff_consecutive_years(1994, 2000, 3, 5))\n",
    "print(diff_consecutive_years(1994, 2001, 2, 10))"
   ]
  },
  {
   "cell_type": "code",
   "execution_count": 28,
   "metadata": {
    "collapsed": false
   },
   "outputs": [
    {
     "name": "stdout",
     "output_type": "stream",
     "text": [
      "[[2010, 4, 21, 3, 12594], [1998, 5, 20, 3, 12241], [2000, 9, 8, 5, 26653], [2011, 7, 21, 4, 13262], [2014, 3, 30, 7, 7215], [1997, 12, 11, 4, 11431], [1999, 6, 14, 1, 11145], [2010, 5, 21, 5, 12302], [2004, 8, 9, 1, 12310], [2012, 7, 19, 4, 12798]]\n"
     ]
    }
   ],
   "source": [
    "ssa_list = read_csv(\"US_births_2000-2014_SSA.csv\")\n",
    "\n",
    "def add_repeated_days(data_list):\n",
    "    temp_dict = {}\n",
    "    for row in data_list:\n",
    "        key = str(row[0]) + ',' + str(row[1]) + ',' + str(row[2]) + ',' + str(row[3])\n",
    "        if key in temp_dict:\n",
    "            temp_dict[key] = temp_dict[key] + row[4]\n",
    "        else:\n",
    "            temp_dict[key] = row[4]\n",
    "    \n",
    "    clean_list = []\n",
    "    for key in temp_dict:\n",
    "        date_str = key.split(',')\n",
    "        date_int = []\n",
    "        for d in date_str:\n",
    "            date_int.append(int(d))\n",
    "        date_int.append(temp_dict[key])\n",
    "        clean_list.append(date_int)\n",
    "    \n",
    "    return clean_list\n",
    "\n",
    "def combine_two_lists(list1, list2):\n",
    "    combined = list1 + list2\n",
    "    clean_combined = add_repeated_days(combined)\n",
    "    return clean_combined\n",
    "    \n",
    "combined = combine_two_lists(cdc_list, ssa_list)\n",
    "print(combined[0:10])"
   ]
  },
  {
   "cell_type": "code",
   "execution_count": 26,
   "metadata": {
    "collapsed": false
   },
   "outputs": [
    {
     "data": {
      "text/plain": [
       "'1'"
      ]
     },
     "execution_count": 26,
     "metadata": {},
     "output_type": "execute_result"
    }
   ],
   "source": [
    "str(1)"
   ]
  },
  {
   "cell_type": "code",
   "execution_count": null,
   "metadata": {
    "collapsed": true
   },
   "outputs": [],
   "source": []
  }
 ],
 "metadata": {
  "anaconda-cloud": {},
  "kernelspec": {
   "display_name": "Python 3",
   "language": "python",
   "name": "python3"
  },
  "language_info": {
   "codemirror_mode": {
    "name": "ipython",
    "version": 3
   },
   "file_extension": ".py",
   "mimetype": "text/x-python",
   "name": "python",
   "nbconvert_exporter": "python",
   "pygments_lexer": "ipython3",
   "version": "3.4.3"
  }
 },
 "nbformat": 4,
 "nbformat_minor": 1
}
